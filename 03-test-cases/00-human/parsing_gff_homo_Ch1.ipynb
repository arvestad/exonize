{
 "cells": [
  {
   "cell_type": "code",
   "execution_count": 1,
   "id": "d33d8c96",
   "metadata": {},
   "outputs": [],
   "source": [
    "%load_ext autoreload\n",
    "%autoreload 2\n",
    "# from exon_evolution import *\n",
    "from exon_analysis import *\n",
    "from global_var import *"
   ]
  },
  {
   "cell_type": "code",
   "execution_count": 2,
   "id": "f4a55ea2",
   "metadata": {},
   "outputs": [],
   "source": [
    "dirct = FASTA_files_direct + 'Homo_sapiens.GRCh38.105.chromosome.1.gff3'\n",
    "genome_dirct = FASTA_files_direct + 'Homo_sapiens.GRCh38.dna.chromosome.1.fa'\n",
    "db_direct = DB_dirct + 'homo_1.db'\n",
    "gene_hierarchy_path = PKL_files_direct + 'Human_ch1_gene_hierarchy_dict.pkl'"
   ]
  },
  {
   "cell_type": "code",
   "execution_count": 3,
   "id": "625561f1",
   "metadata": {},
   "outputs": [],
   "source": [
    "H_ch1_genome_analysis = exon_analysis(db_direct,\n",
    "                                      gene_hierarchy_path,\n",
    "                                      gene_hierarchy=False)\n",
    "H_ch1_genome_analysis.get_annotations_dict()"
   ]
  },
  {
   "cell_type": "code",
   "execution_count": 4,
   "id": "d680c52e",
   "metadata": {},
   "outputs": [
    {
     "data": {
      "text/html": [
       "<div>\n",
       "<style scoped>\n",
       "    .dataframe tbody tr th:only-of-type {\n",
       "        vertical-align: middle;\n",
       "    }\n",
       "\n",
       "    .dataframe tbody tr th {\n",
       "        vertical-align: top;\n",
       "    }\n",
       "\n",
       "    .dataframe thead th {\n",
       "        text-align: right;\n",
       "    }\n",
       "</style>\n",
       "<table border=\"1\" class=\"dataframe\">\n",
       "  <thead>\n",
       "    <tr style=\"text-align: right;\">\n",
       "      <th></th>\n",
       "      <th>Number</th>\n",
       "      <th>Size total (kb)</th>\n",
       "      <th>Size mean (bp)</th>\n",
       "    </tr>\n",
       "  </thead>\n",
       "  <tbody>\n",
       "    <tr>\n",
       "      <th>CDS</th>\n",
       "      <td>78738</td>\n",
       "      <td>11768.14</td>\n",
       "      <td>1.494600e+02</td>\n",
       "    </tr>\n",
       "    <tr>\n",
       "      <th>biological_region</th>\n",
       "      <td>16825</td>\n",
       "      <td>5463.90</td>\n",
       "      <td>3.247500e+02</td>\n",
       "    </tr>\n",
       "    <tr>\n",
       "      <th>chromosome</th>\n",
       "      <td>1</td>\n",
       "      <td>248956.42</td>\n",
       "      <td>2.489564e+08</td>\n",
       "    </tr>\n",
       "    <tr>\n",
       "      <th>exon</th>\n",
       "      <td>143325</td>\n",
       "      <td>38321.88</td>\n",
       "      <td>2.673800e+02</td>\n",
       "    </tr>\n",
       "    <tr>\n",
       "      <th>five_prime_UTR</th>\n",
       "      <td>14466</td>\n",
       "      <td>1863.76</td>\n",
       "      <td>1.288400e+02</td>\n",
       "    </tr>\n",
       "    <tr>\n",
       "      <th>gene</th>\n",
       "      <td>2092</td>\n",
       "      <td>119519.80</td>\n",
       "      <td>5.713184e+04</td>\n",
       "    </tr>\n",
       "    <tr>\n",
       "      <th>intron</th>\n",
       "      <td>108302</td>\n",
       "      <td>589561.88</td>\n",
       "      <td>5.443680e+03</td>\n",
       "    </tr>\n",
       "    <tr>\n",
       "      <th>lnc_RNA</th>\n",
       "      <td>10179</td>\n",
       "      <td>263236.20</td>\n",
       "      <td>2.586071e+04</td>\n",
       "    </tr>\n",
       "    <tr>\n",
       "      <th>mRNA</th>\n",
       "      <td>9387</td>\n",
       "      <td>501516.00</td>\n",
       "      <td>5.342665e+04</td>\n",
       "    </tr>\n",
       "    <tr>\n",
       "      <th>miRNA</th>\n",
       "      <td>158</td>\n",
       "      <td>12.63</td>\n",
       "      <td>7.992000e+01</td>\n",
       "    </tr>\n",
       "    <tr>\n",
       "      <th>ncRNA</th>\n",
       "      <td>192</td>\n",
       "      <td>39.10</td>\n",
       "      <td>2.036400e+02</td>\n",
       "    </tr>\n",
       "    <tr>\n",
       "      <th>ncRNA_gene</th>\n",
       "      <td>2171</td>\n",
       "      <td>39262.75</td>\n",
       "      <td>1.808510e+04</td>\n",
       "    </tr>\n",
       "    <tr>\n",
       "      <th>pseudogene</th>\n",
       "      <td>1294</td>\n",
       "      <td>6105.90</td>\n",
       "      <td>4.718630e+03</td>\n",
       "    </tr>\n",
       "    <tr>\n",
       "      <th>pseudogenic_transcript</th>\n",
       "      <td>1294</td>\n",
       "      <td>3721.03</td>\n",
       "      <td>2.875610e+03</td>\n",
       "    </tr>\n",
       "    <tr>\n",
       "      <th>rRNA</th>\n",
       "      <td>21</td>\n",
       "      <td>2.43</td>\n",
       "      <td>1.156700e+02</td>\n",
       "    </tr>\n",
       "    <tr>\n",
       "      <th>scRNA</th>\n",
       "      <td>14</td>\n",
       "      <td>2.17</td>\n",
       "      <td>1.552900e+02</td>\n",
       "    </tr>\n",
       "    <tr>\n",
       "      <th>snRNA</th>\n",
       "      <td>220</td>\n",
       "      <td>25.38</td>\n",
       "      <td>1.153700e+02</td>\n",
       "    </tr>\n",
       "    <tr>\n",
       "      <th>snoRNA</th>\n",
       "      <td>68</td>\n",
       "      <td>8.43</td>\n",
       "      <td>1.239100e+02</td>\n",
       "    </tr>\n",
       "    <tr>\n",
       "      <th>three_prime_UTR</th>\n",
       "      <td>17134</td>\n",
       "      <td>10384.51</td>\n",
       "      <td>6.060800e+02</td>\n",
       "    </tr>\n",
       "    <tr>\n",
       "      <th>unconfirmed_transcript</th>\n",
       "      <td>44</td>\n",
       "      <td>86.36</td>\n",
       "      <td>1.962610e+03</td>\n",
       "    </tr>\n",
       "    <tr>\n",
       "      <th>Total</th>\n",
       "      <td>405925</td>\n",
       "      <td>1839858.67</td>\n",
       "      <td>2.491282e+08</td>\n",
       "    </tr>\n",
       "  </tbody>\n",
       "</table>\n",
       "</div>"
      ],
      "text/plain": [
       "                        Number  Size total (kb)  Size mean (bp)\n",
       "CDS                      78738         11768.14    1.494600e+02\n",
       "biological_region        16825          5463.90    3.247500e+02\n",
       "chromosome                   1        248956.42    2.489564e+08\n",
       "exon                    143325         38321.88    2.673800e+02\n",
       "five_prime_UTR           14466          1863.76    1.288400e+02\n",
       "gene                      2092        119519.80    5.713184e+04\n",
       "intron                  108302        589561.88    5.443680e+03\n",
       "lnc_RNA                  10179        263236.20    2.586071e+04\n",
       "mRNA                      9387        501516.00    5.342665e+04\n",
       "miRNA                      158            12.63    7.992000e+01\n",
       "ncRNA                      192            39.10    2.036400e+02\n",
       "ncRNA_gene                2171         39262.75    1.808510e+04\n",
       "pseudogene                1294          6105.90    4.718630e+03\n",
       "pseudogenic_transcript    1294          3721.03    2.875610e+03\n",
       "rRNA                        21             2.43    1.156700e+02\n",
       "scRNA                       14             2.17    1.552900e+02\n",
       "snRNA                      220            25.38    1.153700e+02\n",
       "snoRNA                      68             8.43    1.239100e+02\n",
       "three_prime_UTR          17134         10384.51    6.060800e+02\n",
       "unconfirmed_transcript      44            86.36    1.962610e+03\n",
       "Total                   405925       1839858.67    2.491282e+08"
      ]
     },
     "execution_count": 4,
     "metadata": {},
     "output_type": "execute_result"
    }
   ],
   "source": [
    "H_ch1_genome_analysis.generate_basic_statistics()"
   ]
  },
  {
   "cell_type": "code",
   "execution_count": 5,
   "id": "c45b00a1",
   "metadata": {},
   "outputs": [],
   "source": [
    "H_ch1_genome_analysis.check_overlaps()"
   ]
  },
  {
   "cell_type": "code",
   "execution_count": 6,
   "id": "45c48a1b",
   "metadata": {},
   "outputs": [],
   "source": [
    "# genes with overlaping intron/exon annotations\n",
    "# we neglect these genes from the analysis\n",
    "for i in set(H_ch1_genome_analysis.genes_with_incorrect_intron_exon_overlaps):\n",
    "    print(i)"
   ]
  },
  {
   "cell_type": "code",
   "execution_count": 7,
   "id": "dd294f0c",
   "metadata": {},
   "outputs": [
    {
     "name": "stdout",
     "output_type": "stream",
     "text": [
      "CDS\n",
      "{'CDS': 0, 'exon': 7506, 'intron': 0, 'five_prime_UTR': 0, 'three_prime_UTR': 0}\n",
      "   \n",
      "exon\n",
      "{'CDS': 7991, 'exon': 0, 'intron': 0, 'five_prime_UTR': 3653, 'three_prime_UTR': 4155}\n",
      "   \n",
      "intron\n",
      "{'CDS': 0, 'exon': 0, 'intron': 0, 'five_prime_UTR': 0, 'three_prime_UTR': 0}\n",
      "   \n",
      "five_prime_UTR\n",
      "{'CDS': 0, 'exon': 4281, 'intron': 0, 'five_prime_UTR': 0, 'three_prime_UTR': 0}\n",
      "   \n",
      "three_prime_UTR\n",
      "{'CDS': 0, 'exon': 3677, 'intron': 0, 'five_prime_UTR': 0, 'three_prime_UTR': 0}\n",
      "   \n"
     ]
    }
   ],
   "source": [
    "for key, value in H_ch1_genome_analysis.intersections_counter.items():\n",
    "    print(key)\n",
    "    print(value)\n",
    "    print('   ')"
   ]
  },
  {
   "cell_type": "code",
   "execution_count": 8,
   "id": "4fa3e650",
   "metadata": {},
   "outputs": [],
   "source": [
    "H_ch1_genome_analysis.get_gene_hierarchy_dict_with_coding_exons()\n",
    "H_ch1_genome_analysis.read_genome(genome_dirct)"
   ]
  },
  {
   "cell_type": "code",
   "execution_count": 9,
   "id": "ec2e4077",
   "metadata": {},
   "outputs": [
    {
     "name": "stderr",
     "output_type": "stream",
     "text": [
      "100%|████████████████████████████████████████████████████████████████████| 2092/2092 [05:42<00:00,  6.11it/s]\n"
     ]
    }
   ],
   "source": [
    "H_ch1_genome_analysis.get_within_gene_real_exon_dupl(exons_min_len=20,\n",
    "                                                     filename=PKL_files_direct+'Homo_sap_real_exon_dup.apkl')"
   ]
  },
  {
   "cell_type": "code",
   "execution_count": 10,
   "id": "c67bd2e8",
   "metadata": {},
   "outputs": [
    {
     "data": {
      "image/png": "[encoded data removed]",
      "text/plain": [
       "<Figure size 936x360 with 3 Axes>"
      ]
     },
     "metadata": {
      "needs_background": "light"
     },
     "output_type": "display_data"
    }
   ],
   "source": [
    "H_ch1_genome_analysis.plot_histograms_on_real_exon_dup()"
   ]
  }
 ],
 "metadata": {
  "kernelspec": {
   "display_name": "Python 3 (ipykernel)",
   "language": "python",
   "name": "python3"
  },
  "language_info": {
   "codemirror_mode": {
    "name": "ipython",
    "version": 3
   },
   "file_extension": ".py",
   "mimetype": "text/x-python",
   "name": "python",
   "nbconvert_exporter": "python",
   "pygments_lexer": "ipython3",
   "version": "3.9.13"
  }
 },
 "nbformat": 4,
 "nbformat_minor": 5
}
