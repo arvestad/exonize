{
 "cells": [
  {
   "cell_type": "code",
   "execution_count": 1,
   "id": "enclosed-reach",
   "metadata": {},
   "outputs": [],
   "source": [
    "%load_ext autoreload\n",
    "%autoreload 2\n",
    "from simulate_genome import *\n",
    "from alignment_tools_comparison import *\n",
    "from global_var import *"
   ]
  },
  {
   "cell_type": "code",
   "execution_count": 2,
   "id": "ethical-namibia",
   "metadata": {},
   "outputs": [],
   "source": [
    "# read db using the gffutils library\n",
    "db_direct = DB_DIRECT + 'pieris_napi.db'\n",
    "gene_hierarchy_direct = PKL_DIRECT + 'gene_hierarchy_dict_pieris_napi.pkl'\n",
    "genome_direct = FASTA_DIRECT + 'pieris_napi/Pieris_napi-GCA_905231885.1-softmasked.fa'\n",
    "prot_direct = FASTA_DIRECT + \"pieris_napi/data/Pnap.GCA_905231885.1-softmasked.brakerProt_rename_agat.prot.fa\""
   ]
  },
  {
   "cell_type": "code",
   "execution_count": 3,
   "id": "alive-cabin",
   "metadata": {},
   "outputs": [],
   "source": [
    "Pieris_napi_sim_genome = genome_constructor(db_direct,\n",
    "                                            gene_hierarchy_direct,\n",
    "                                            genome_direct,\n",
    "                                            seed = 20)"
   ]
  },
  {
   "cell_type": "markdown",
   "id": "bb73893d",
   "metadata": {},
   "source": [
    "## Simulate a genome with genes containing exon duplicates: "
   ]
  },
  {
   "cell_type": "code",
   "execution_count": 4,
   "id": "later-brain",
   "metadata": {},
   "outputs": [],
   "source": [
    "genes_sample = Pieris_napi_sim_genome.collect_genes(n_coding_exons = 3, \n",
    "                                                    max_exon_len = 300,\n",
    "                                                    min_intron_len = 100)\n",
    "\n",
    "genes_sample_20 = Pieris_napi_sim_genome.get_sample(genes_sample,\n",
    "                                                    20)\n",
    "\n",
    "genes_loc = {i : P.closed(Pieris_napi_sim_genome.db[i].start, \n",
    "                          Pieris_napi_sim_genome.db[i].end)\n",
    "             for i in genes_sample_20.keys()\n",
    "            }\n",
    "\n",
    "genes_order = list(genes_loc.keys())"
   ]
  },
  {
   "cell_type": "markdown",
   "id": "064a4302",
   "metadata": {},
   "source": [
    "### - We duplicate the 2nd exon and insert it before/after the real exon"
   ]
  },
  {
   "cell_type": "code",
   "execution_count": 5,
   "id": "pharmaceutical-montgomery",
   "metadata": {},
   "outputs": [
    {
     "name": "stdout",
     "output_type": "stream",
     "text": [
      "sanity check: passed\n"
     ]
    }
   ],
   "source": [
    "#################################\n",
    "# insert exon to the left\n",
    "#################################\n",
    "#simulate genes\n",
    "simulated_sample_20_before = Pieris_napi_sim_genome.simulate_genes_with_exons_dup(2, \n",
    "                                                                                  'before', \n",
    "                                                                                  genes_sample_20)\n",
    "#simulate genome\n",
    "simulated_genome_before = Pieris_napi_sim_genome.simulate_genome(simulated_sample_20_before,\n",
    "                                                                 'before', \n",
    "                                                                 'genome_test.fa')"
   ]
  },
  {
   "cell_type": "code",
   "execution_count": 6,
   "id": "divine-leather",
   "metadata": {},
   "outputs": [],
   "source": [
    "ce_intervals = Pieris_napi_sim_genome.get_coding_exons_interv(simulated_sample_20_before)\n",
    "\n",
    "new_exons_intervals_before = Pieris_napi_sim_genome.get_new_exon_intervals(simulated_genome_before,\n",
    "                                                                           ce_intervals,\n",
    "                                                                           simulated_sample_20_before)\n",
    "\n",
    "genes_loc_before = {ID:desc['seq'][0] for chrom, chrom_dict in new_exons_intervals_before.items() \n",
    "                    for ID, desc in chrom_dict.items()\n",
    "                   }"
   ]
  },
  {
   "cell_type": "code",
   "execution_count": 7,
   "id": "simple-measure",
   "metadata": {},
   "outputs": [
    {
     "name": "stdout",
     "output_type": "stream",
     "text": [
      "sanity check: passed\n"
     ]
    }
   ],
   "source": [
    "#sanity check\n",
    "Pieris_napi_sim_genome.intron_signal_sanity_check(20,\n",
    "                                                  'before',\n",
    "                                                  simulated_genome_before,\n",
    "                                                  new_exons_intervals_before)"
   ]
  },
  {
   "cell_type": "code",
   "execution_count": 8,
   "id": "hired-letters",
   "metadata": {},
   "outputs": [
    {
     "name": "stdout",
     "output_type": "stream",
     "text": [
      "sanity check: passed\n"
     ]
    }
   ],
   "source": [
    "#################################\n",
    "# insert exon to the right\n",
    "#################################\n",
    "#simulate genes\n",
    "simulated_sample_20_after = Pieris_napi_sim_genome.simulate_genes_with_exons_dup(2, \n",
    "                                                                                 'after', \n",
    "                                                                                 genes_sample_20)\n",
    "#simulate genome\n",
    "simulated_genome_after = Pieris_napi_sim_genome.simulate_genome(simulated_sample_20_after,\n",
    "                                                                'after', \n",
    "                                                                'genome_test_after.fa')"
   ]
  },
  {
   "cell_type": "code",
   "execution_count": 9,
   "id": "respective-restaurant",
   "metadata": {},
   "outputs": [],
   "source": [
    "ce_intervals_after = Pieris_napi_sim_genome.get_coding_exons_interv(simulated_sample_20_after)\n",
    "\n",
    "new_exons_intervals_after = Pieris_napi_sim_genome.get_new_exon_intervals(simulated_genome_after,\n",
    "                                                                          ce_intervals_after,\n",
    "                                                                          simulated_sample_20_after)\n",
    "genes_loc_after = {ID:desc['seq'][0] for chrom, chrom_dict in new_exons_intervals_after.items() \n",
    "                    for ID, desc in chrom_dict.items()}"
   ]
  },
  {
   "cell_type": "code",
   "execution_count": 10,
   "id": "coastal-discipline",
   "metadata": {},
   "outputs": [
    {
     "name": "stdout",
     "output_type": "stream",
     "text": [
      "sanity check: passed\n"
     ]
    }
   ],
   "source": [
    "#sanity check\n",
    "Pieris_napi_sim_genome.intron_signal_sanity_check(20,\n",
    "                                                  'after',\n",
    "                                                  simulated_genome_after,\n",
    "                                                  new_exons_intervals_after)"
   ]
  },
  {
   "cell_type": "code",
   "execution_count": 11,
   "id": "incident-arthur",
   "metadata": {},
   "outputs": [],
   "source": [
    "Pieris_napi_sim_genome.dump_pkl_file(PKL_DIRECT + 'gene_sample_20.pkl', \n",
    "                                     {'genes_sample_20':genes_sample_20,\n",
    "                                      'genes_loc':genes_loc,\n",
    "                                      'genes_order':genes_order,\n",
    "                                      'genes_loc_before':genes_loc_before,\n",
    "                                      'genes_loc_after':genes_loc_after,\n",
    "                                      'simulated_sample_20_before':simulated_sample_20_before,\n",
    "                                      'simulated_sample_20_after': simulated_sample_20_after,\n",
    "                                      'new_exons_intervals_before':new_exons_intervals_before,\n",
    "                                      'new_exons_intervals_after':new_exons_intervals_after\n",
    "                                      \n",
    "                                     }\n",
    "                                    )"
   ]
  }
 ],
 "metadata": {
  "kernelspec": {
   "display_name": "Python 3 (ipykernel)",
   "language": "python",
   "name": "python3"
  },
  "language_info": {
   "codemirror_mode": {
    "name": "ipython",
    "version": 3
   },
   "file_extension": ".py",
   "mimetype": "text/x-python",
   "name": "python",
   "nbconvert_exporter": "python",
   "pygments_lexer": "ipython3",
   "version": "3.8.7"
  }
 },
 "nbformat": 4,
 "nbformat_minor": 5
}
