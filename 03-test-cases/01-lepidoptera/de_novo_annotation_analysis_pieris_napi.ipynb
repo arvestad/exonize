{
 "cells": [
  {
   "cell_type": "code",
   "execution_count": 1,
   "id": "e8f7c9ad",
   "metadata": {},
   "outputs": [],
   "source": [
    "%load_ext autoreload\n",
    "%autoreload 2\n",
    "# from exon_evolution import *\n",
    "from exon_analysis import *\n",
    "from global_var import *"
   ]
  },
  {
   "cell_type": "code",
   "execution_count": 2,
   "id": "c1afa9ca",
   "metadata": {},
   "outputs": [],
   "source": [
    "dirct = FASTA_files_direct + 'pieris_napi/data/Pieris_napi_brakerProt_rename_agat.gff'\n",
    "genome_dirct = FASTA_files_direct + 'pieris_napi/Pieris_napi-GCA_905231885.1-softmasked.fa'\n",
    "db_direct = DB_dirct + 'pieris_napi.db'\n",
    "gene_hierarchy_path = PKL_files_direct + 'Pieris_napi_gene_hierarchy_dict.pkl'"
   ]
  },
  {
   "cell_type": "code",
   "execution_count": 3,
   "id": "50a6c17f",
   "metadata": {},
   "outputs": [],
   "source": [
    "Pn_genome_analysis = exon_analysis(db_direct,\n",
    "                                   gene_hierarchy_path,\n",
    "                                   gene_hierarchy=False)\n",
    "Pn_genome_analysis.get_annotations_dict()"
   ]
  },
  {
   "cell_type": "code",
   "execution_count": 4,
   "id": "87ff8f5b",
   "metadata": {},
   "outputs": [
    {
     "data": {
      "text/html": [
       "<div>\n",
       "<style scoped>\n",
       "    .dataframe tbody tr th:only-of-type {\n",
       "        vertical-align: middle;\n",
       "    }\n",
       "\n",
       "    .dataframe tbody tr th {\n",
       "        vertical-align: top;\n",
       "    }\n",
       "\n",
       "    .dataframe thead th {\n",
       "        text-align: right;\n",
       "    }\n",
       "</style>\n",
       "<table border=\"1\" class=\"dataframe\">\n",
       "  <thead>\n",
       "    <tr style=\"text-align: right;\">\n",
       "      <th></th>\n",
       "      <th>Number</th>\n",
       "      <th>Size total (kb)</th>\n",
       "      <th>Size mean (bp)</th>\n",
       "    </tr>\n",
       "  </thead>\n",
       "  <tbody>\n",
       "    <tr>\n",
       "      <th>CDS</th>\n",
       "      <td>123638</td>\n",
       "      <td>26884.55</td>\n",
       "      <td>217.45</td>\n",
       "    </tr>\n",
       "    <tr>\n",
       "      <th>exon</th>\n",
       "      <td>123638</td>\n",
       "      <td>26966.50</td>\n",
       "      <td>218.11</td>\n",
       "    </tr>\n",
       "    <tr>\n",
       "      <th>five_prime_UTR</th>\n",
       "      <td>22</td>\n",
       "      <td>62.28</td>\n",
       "      <td>2831.09</td>\n",
       "    </tr>\n",
       "    <tr>\n",
       "      <th>gene</th>\n",
       "      <td>32898</td>\n",
       "      <td>220931.03</td>\n",
       "      <td>6715.64</td>\n",
       "    </tr>\n",
       "    <tr>\n",
       "      <th>intron</th>\n",
       "      <td>105783</td>\n",
       "      <td>102665.38</td>\n",
       "      <td>970.53</td>\n",
       "    </tr>\n",
       "    <tr>\n",
       "      <th>mRNA</th>\n",
       "      <td>17894</td>\n",
       "      <td>129761.45</td>\n",
       "      <td>7251.67</td>\n",
       "    </tr>\n",
       "    <tr>\n",
       "      <th>start_codon</th>\n",
       "      <td>17841</td>\n",
       "      <td>35.68</td>\n",
       "      <td>2.00</td>\n",
       "    </tr>\n",
       "    <tr>\n",
       "      <th>stop_codon</th>\n",
       "      <td>17844</td>\n",
       "      <td>35.69</td>\n",
       "      <td>2.00</td>\n",
       "    </tr>\n",
       "    <tr>\n",
       "      <th>three_prime_UTR</th>\n",
       "      <td>17</td>\n",
       "      <td>19.63</td>\n",
       "      <td>1154.82</td>\n",
       "    </tr>\n",
       "    <tr>\n",
       "      <th>transcript</th>\n",
       "      <td>16964</td>\n",
       "      <td>114183.29</td>\n",
       "      <td>6730.92</td>\n",
       "    </tr>\n",
       "    <tr>\n",
       "      <th>Total</th>\n",
       "      <td>456539</td>\n",
       "      <td>621545.48</td>\n",
       "      <td>26094.23</td>\n",
       "    </tr>\n",
       "  </tbody>\n",
       "</table>\n",
       "</div>"
      ],
      "text/plain": [
       "                 Number  Size total (kb)  Size mean (bp)\n",
       "CDS              123638         26884.55          217.45\n",
       "exon             123638         26966.50          218.11\n",
       "five_prime_UTR       22            62.28         2831.09\n",
       "gene              32898        220931.03         6715.64\n",
       "intron           105783        102665.38          970.53\n",
       "mRNA              17894        129761.45         7251.67\n",
       "start_codon       17841            35.68            2.00\n",
       "stop_codon        17844            35.69            2.00\n",
       "three_prime_UTR      17            19.63         1154.82\n",
       "transcript        16964        114183.29         6730.92\n",
       "Total            456539        621545.48        26094.23"
      ]
     },
     "execution_count": 4,
     "metadata": {},
     "output_type": "execute_result"
    }
   ],
   "source": [
    "Pn_genome_analysis.generate_basic_statistics()"
   ]
  },
  {
   "cell_type": "code",
   "execution_count": 5,
   "id": "3a9b1011",
   "metadata": {},
   "outputs": [],
   "source": [
    "Pn_genome_analysis.check_overlaps()"
   ]
  },
  {
   "cell_type": "code",
   "execution_count": 6,
   "id": "213f415d",
   "metadata": {},
   "outputs": [
    {
     "name": "stdout",
     "output_type": "stream",
     "text": [
      "P_napi_26776\n",
      "P_napi_27377\n",
      "P_napi_23679\n",
      "P_napi_30757\n",
      "P_napi_19272\n",
      "P_napi_10769\n",
      "P_napi_15353\n",
      "P_napi_32605\n",
      "P_napi_18727\n",
      "P_napi_12375\n",
      "P_napi_25265\n",
      "P_napi_24090\n",
      "P_napi_12240\n",
      "P_napi_32430\n",
      "P_napi_32342\n"
     ]
    }
   ],
   "source": [
    "# search for genes with overlaping intron/exon annotations\n",
    "# we neglect these genes from the analysis\n",
    "for i in set(Pn_genome_analysis.genes_with_incorrect_intron_exon_overlaps):\n",
    "    print(i)"
   ]
  },
  {
   "cell_type": "code",
   "execution_count": 7,
   "id": "5a6d7206",
   "metadata": {},
   "outputs": [
    {
     "name": "stdout",
     "output_type": "stream",
     "text": [
      "CDS\n",
      "{'CDS': 0, 'exon': 6, 'intron': 0, 'five_prime_UTR': 0, 'three_prime_UTR': 0}\n",
      "   \n",
      "exon\n",
      "{'CDS': 33, 'exon': 0, 'intron': 0, 'five_prime_UTR': 3, 'three_prime_UTR': 0}\n",
      "   \n",
      "intron\n",
      "{'CDS': 0, 'exon': 0, 'intron': 0, 'five_prime_UTR': 0, 'three_prime_UTR': 0}\n",
      "   \n",
      "five_prime_UTR\n",
      "{'CDS': 0, 'exon': 19, 'intron': 0, 'five_prime_UTR': 0, 'three_prime_UTR': 0}\n",
      "   \n",
      "three_prime_UTR\n",
      "{'CDS': 0, 'exon': 0, 'intron': 0, 'five_prime_UTR': 0, 'three_prime_UTR': 0}\n",
      "   \n"
     ]
    }
   ],
   "source": [
    "# annotations overlaps: \n",
    "# eg. 33 exon annotations overlap with a CDs annotation\n",
    "# This is after removing the overlaps\n",
    "for key, value in Pn_genome_analysis.intersections_counter.items():\n",
    "    print(key)\n",
    "    print(value)\n",
    "    print('   ')"
   ]
  },
  {
   "cell_type": "code",
   "execution_count": 8,
   "id": "ff7364e9",
   "metadata": {},
   "outputs": [],
   "source": [
    "Pn_genome_analysis.dump_pkl_file(gene_hierarchy_path,\n",
    "                                 Pn_genome_analysis.gene_hierarchy_dict)\n",
    "Pn_genome_analysis.gene_hierarchy_dict = Pn_genome_analysis.read_pkl_file(gene_hierarchy_path)"
   ]
  },
  {
   "cell_type": "code",
   "execution_count": 9,
   "id": "16da6fbf",
   "metadata": {},
   "outputs": [],
   "source": [
    "Pn_genome_analysis.get_gene_hierarchy_dict_with_coding_exons()\n",
    "Pn_genome_analysis.read_genome(genome_dirct)"
   ]
  },
  {
   "cell_type": "code",
   "execution_count": 10,
   "id": "dc5cb3f3",
   "metadata": {},
   "outputs": [
    {
     "data": {
      "image/png": "[encoded data removed]",
      "text/plain": [
       "<Figure size 936x360 with 2 Axes>"
      ]
     },
     "metadata": {
      "needs_background": "light"
     },
     "output_type": "display_data"
    }
   ],
   "source": [
    "Pn_genome_analysis.plot_exons_hist_cdf()"
   ]
  },
  {
   "cell_type": "code",
   "execution_count": 11,
   "id": "c7321c5f",
   "metadata": {},
   "outputs": [
    {
     "name": "stderr",
     "output_type": "stream",
     "text": [
      "100%|██████████████████████████████████████████████████████████████████| 32883/32883 [05:53<00:00, 92.97it/s]\n"
     ]
    }
   ],
   "source": [
    "Pn_genome_analysis.get_within_gene_real_exon_dupl(exons_min_len=50,\n",
    "                                                  filename=PKL_files_direct+'Pieris_napi_real_exon_dup.apkl')"
   ]
  },
  {
   "cell_type": "code",
   "execution_count": 12,
   "id": "4569ff16",
   "metadata": {},
   "outputs": [
    {
     "data": {
      "image/png": "[encoded data removed]",
      "text/plain": [
       "<Figure size 936x360 with 3 Axes>"
      ]
     },
     "metadata": {
      "needs_background": "light"
     },
     "output_type": "display_data"
    }
   ],
   "source": [
    "Pn_genome_analysis.plot_histograms_on_real_exon_dup()"
   ]
  },
  {
   "cell_type": "code",
   "execution_count": 13,
   "id": "77e945b5",
   "metadata": {},
   "outputs": [],
   "source": [
    "len_of_dup_exon = []\n",
    "for gene, gene_trascpt_dict in Pn_genome_analysis.genes_coding_exons.items():\n",
    "    for transcpt, trascpt_dict in gene_trascpt_dict.items():\n",
    "        for exon_id, exons_list in trascpt_dict.items():\n",
    "            len_of_dup_exon.append(\n",
    "                (gene, gene_trascpt_dict, exon_id, exons_list[0][1] - exons_list[0][0])\n",
    "            )"
   ]
  }
 ],
 "metadata": {
  "kernelspec": {
   "display_name": "Python 3 (ipykernel)",
   "language": "python",
   "name": "python3"
  },
  "language_info": {
   "codemirror_mode": {
    "name": "ipython",
    "version": 3
   },
   "file_extension": ".py",
   "mimetype": "text/x-python",
   "name": "python",
   "nbconvert_exporter": "python",
   "pygments_lexer": "ipython3",
   "version": "3.9.13"
  }
 },
 "nbformat": 4,
 "nbformat_minor": 5
}
