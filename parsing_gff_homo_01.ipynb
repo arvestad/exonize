{
 "cells": [
  {
   "cell_type": "code",
   "execution_count": 1,
   "id": "553a6db9",
   "metadata": {},
   "outputs": [],
   "source": [
    "%load_ext autoreload\n",
    "%autoreload 2\n",
    "from fun import *"
   ]
  },
  {
   "cell_type": "code",
   "execution_count": 2,
   "id": "4fb932c5",
   "metadata": {},
   "outputs": [],
   "source": [
    "# create_database('/home/msarrias/data/Homo_sapiens.GRCh38.105.chromosome.1.gff3', '/home/msarrias/dbs/homo_1.db')\n",
    "\n",
    "# read db using the gffutils library\n",
    "db_filename = '/home/msarrias/dbs/homo_1.db'\n",
    "db = gffutils.FeatureDB(db_filename, keep_order=True)\n",
    "annot_dict = get_annotations_dict(db)"
   ]
  },
  {
   "cell_type": "code",
   "execution_count": 3,
   "id": "9e99c8c8",
   "metadata": {},
   "outputs": [
    {
     "data": {
      "text/html": [
       "<div>\n",
       "<style scoped>\n",
       "    .dataframe tbody tr th:only-of-type {\n",
       "        vertical-align: middle;\n",
       "    }\n",
       "\n",
       "    .dataframe tbody tr th {\n",
       "        vertical-align: top;\n",
       "    }\n",
       "\n",
       "    .dataframe thead th {\n",
       "        text-align: right;\n",
       "    }\n",
       "</style>\n",
       "<table border=\"1\" class=\"dataframe\">\n",
       "  <thead>\n",
       "    <tr style=\"text-align: right;\">\n",
       "      <th></th>\n",
       "      <th>Number</th>\n",
       "      <th>Size total (kb)</th>\n",
       "      <th>Size mean (bp)</th>\n",
       "    </tr>\n",
       "  </thead>\n",
       "  <tbody>\n",
       "    <tr>\n",
       "      <th>CDS</th>\n",
       "      <td>78738</td>\n",
       "      <td>11768.14</td>\n",
       "      <td>149.46</td>\n",
       "    </tr>\n",
       "    <tr>\n",
       "      <th>biological_region</th>\n",
       "      <td>16825</td>\n",
       "      <td>5463.90</td>\n",
       "      <td>324.75</td>\n",
       "    </tr>\n",
       "    <tr>\n",
       "      <th>chromosome</th>\n",
       "      <td>1</td>\n",
       "      <td>248956.42</td>\n",
       "      <td>248956421.00</td>\n",
       "    </tr>\n",
       "    <tr>\n",
       "      <th>exon</th>\n",
       "      <td>143325</td>\n",
       "      <td>38321.88</td>\n",
       "      <td>267.38</td>\n",
       "    </tr>\n",
       "    <tr>\n",
       "      <th>five_prime_UTR</th>\n",
       "      <td>14466</td>\n",
       "      <td>1863.76</td>\n",
       "      <td>128.84</td>\n",
       "    </tr>\n",
       "    <tr>\n",
       "      <th>gene</th>\n",
       "      <td>2092</td>\n",
       "      <td>119519.80</td>\n",
       "      <td>57131.84</td>\n",
       "    </tr>\n",
       "    <tr>\n",
       "      <th>lnc_RNA</th>\n",
       "      <td>10179</td>\n",
       "      <td>263236.20</td>\n",
       "      <td>25860.71</td>\n",
       "    </tr>\n",
       "    <tr>\n",
       "      <th>mRNA</th>\n",
       "      <td>9387</td>\n",
       "      <td>501516.00</td>\n",
       "      <td>53426.65</td>\n",
       "    </tr>\n",
       "    <tr>\n",
       "      <th>miRNA</th>\n",
       "      <td>158</td>\n",
       "      <td>12.63</td>\n",
       "      <td>79.92</td>\n",
       "    </tr>\n",
       "    <tr>\n",
       "      <th>ncRNA</th>\n",
       "      <td>192</td>\n",
       "      <td>39.10</td>\n",
       "      <td>203.64</td>\n",
       "    </tr>\n",
       "    <tr>\n",
       "      <th>ncRNA_gene</th>\n",
       "      <td>2171</td>\n",
       "      <td>39262.75</td>\n",
       "      <td>18085.10</td>\n",
       "    </tr>\n",
       "    <tr>\n",
       "      <th>pseudogene</th>\n",
       "      <td>1294</td>\n",
       "      <td>6105.90</td>\n",
       "      <td>4718.63</td>\n",
       "    </tr>\n",
       "    <tr>\n",
       "      <th>pseudogenic_transcript</th>\n",
       "      <td>1294</td>\n",
       "      <td>3721.03</td>\n",
       "      <td>2875.61</td>\n",
       "    </tr>\n",
       "    <tr>\n",
       "      <th>rRNA</th>\n",
       "      <td>21</td>\n",
       "      <td>2.43</td>\n",
       "      <td>115.67</td>\n",
       "    </tr>\n",
       "    <tr>\n",
       "      <th>scRNA</th>\n",
       "      <td>14</td>\n",
       "      <td>2.17</td>\n",
       "      <td>155.29</td>\n",
       "    </tr>\n",
       "    <tr>\n",
       "      <th>snRNA</th>\n",
       "      <td>220</td>\n",
       "      <td>25.38</td>\n",
       "      <td>115.37</td>\n",
       "    </tr>\n",
       "    <tr>\n",
       "      <th>snoRNA</th>\n",
       "      <td>68</td>\n",
       "      <td>8.43</td>\n",
       "      <td>123.91</td>\n",
       "    </tr>\n",
       "    <tr>\n",
       "      <th>three_prime_UTR</th>\n",
       "      <td>17134</td>\n",
       "      <td>10384.51</td>\n",
       "      <td>606.08</td>\n",
       "    </tr>\n",
       "    <tr>\n",
       "      <th>unconfirmed_transcript</th>\n",
       "      <td>44</td>\n",
       "      <td>86.36</td>\n",
       "      <td>1962.61</td>\n",
       "    </tr>\n",
       "    <tr>\n",
       "      <th>Total</th>\n",
       "      <td>297623</td>\n",
       "      <td>1250296.79</td>\n",
       "      <td>249122752.46</td>\n",
       "    </tr>\n",
       "  </tbody>\n",
       "</table>\n",
       "</div>"
      ],
      "text/plain": [
       "                        Number  Size total (kb)  Size mean (bp)\n",
       "CDS                      78738         11768.14          149.46\n",
       "biological_region        16825          5463.90          324.75\n",
       "chromosome                   1        248956.42    248956421.00\n",
       "exon                    143325         38321.88          267.38\n",
       "five_prime_UTR           14466          1863.76          128.84\n",
       "gene                      2092        119519.80        57131.84\n",
       "lnc_RNA                  10179        263236.20        25860.71\n",
       "mRNA                      9387        501516.00        53426.65\n",
       "miRNA                      158            12.63           79.92\n",
       "ncRNA                      192            39.10          203.64\n",
       "ncRNA_gene                2171         39262.75        18085.10\n",
       "pseudogene                1294          6105.90         4718.63\n",
       "pseudogenic_transcript    1294          3721.03         2875.61\n",
       "rRNA                        21             2.43          115.67\n",
       "scRNA                       14             2.17          155.29\n",
       "snRNA                      220            25.38          115.37\n",
       "snoRNA                      68             8.43          123.91\n",
       "three_prime_UTR          17134         10384.51          606.08\n",
       "unconfirmed_transcript      44            86.36         1962.61\n",
       "Total                   297623       1250296.79    249122752.46"
      ]
     },
     "execution_count": 3,
     "metadata": {},
     "output_type": "execute_result"
    }
   ],
   "source": [
    "df_stats = pd.DataFrame(basic_stat(annot_dict), index =list(db.featuretypes()) + ['Total'])\n",
    "df_stats"
   ]
  },
  {
   "cell_type": "code",
   "execution_count": 4,
   "id": "2b85b1dc",
   "metadata": {},
   "outputs": [],
   "source": [
    "# mRNA parent - child annotations\n",
    "\n",
    "# parent_dic, parent_child_dic = create_parent_child_dic(annot_dict)\n",
    "# dump_parent_child_dict(parent_dic, parent_child_dic,'../files/parent_child_dic_human_01.pkl')\n",
    "\n",
    "with open('../files/parent_child_dic_human_01.pkl', 'rb') as handle:\n",
    "    merged_dict = pickle.load(handle)"
   ]
  },
  {
   "cell_type": "code",
   "execution_count": 5,
   "id": "2779c7b9",
   "metadata": {},
   "outputs": [],
   "source": [
    "# compute intron regions using bedtools\n",
    "mRNA_parent_dic, parents_exon_coverage = get_exon_overlaps(merged_dict['parent_child_dic'], \n",
    "                                                           merged_dict['parent_dic'])"
   ]
  },
  {
   "cell_type": "code",
   "execution_count": 6,
   "id": "4691bde0",
   "metadata": {},
   "outputs": [],
   "source": [
    "transcripts_summary = get_summary_dict(mRNA_parent_dic)\n",
    "df_stats = pd.DataFrame(transcripts_summary)"
   ]
  },
  {
   "cell_type": "code",
   "execution_count": 7,
   "id": "9c01d0b3",
   "metadata": {},
   "outputs": [
    {
     "data": {
      "image/png": "[encoded data removed]",
      "text/plain": [
       "<Figure size 936x360 with 2 Axes>"
      ]
     },
     "metadata": {
      "needs_background": "light"
     },
     "output_type": "display_data"
    }
   ],
   "source": [
    "exons_counts = transcripts_summary['n_exons'][:-1]\n",
    "plot_hist_cdf(exons_counts)"
   ]
  }
 ],
 "metadata": {
  "kernelspec": {
   "display_name": "Python 3 (ipykernel)",
   "language": "python",
   "name": "python3"
  },
  "language_info": {
   "codemirror_mode": {
    "name": "ipython",
    "version": 3
   },
   "file_extension": ".py",
   "mimetype": "text/x-python",
   "name": "python",
   "nbconvert_exporter": "python",
   "pygments_lexer": "ipython3",
   "version": "3.9.13"
  }
 },
 "nbformat": 4,
 "nbformat_minor": 5
}
