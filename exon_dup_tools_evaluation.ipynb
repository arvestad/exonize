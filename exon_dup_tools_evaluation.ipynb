{
 "cells": [
  {
   "cell_type": "markdown",
   "id": "445b6faa",
   "metadata": {},
   "source": [
    "### Can tools detect exon duplications? \n",
    "\n",
    "We will evaluate:\n",
    "\n",
    "* [exonerate](https://www.ebi.ac.uk/about/vertebrate-genomics/software/exonerate-manual)\n",
    "* [gmap](http://research-pub.gene.com/gmap/src/README)\n",
    "* [spaln2](https://github.com/ogotoh/spaln)\n",
    "\n"
   ]
  },
  {
   "cell_type": "code",
   "execution_count": 1,
   "id": "26b88ea2",
   "metadata": {},
   "outputs": [],
   "source": [
    "import sys"
   ]
  },
  {
   "cell_type": "markdown",
   "id": "59beb4b0",
   "metadata": {},
   "source": [
    "### exonerate"
   ]
  },
  {
   "cell_type": "code",
   "execution_count": 2,
   "id": "a4450507",
   "metadata": {},
   "outputs": [],
   "source": [
    "!exonerate genes_with_dup_original_prot_seq.fa GRCh38_with_exon_dup.fa > exonerate.out.txt"
   ]
  },
  {
   "cell_type": "code",
   "execution_count": null,
   "id": "90379bc5",
   "metadata": {},
   "outputs": [],
   "source": [
    "# !cat exonerate.out.txt"
   ]
  },
  {
   "cell_type": "markdown",
   "id": "0af4010f",
   "metadata": {},
   "source": [
    "### gmap"
   ]
  },
  {
   "cell_type": "code",
   "execution_count": 3,
   "id": "a1db05ab",
   "metadata": {},
   "outputs": [
    {
     "name": "stdout",
     "output_type": "stream",
     "text": [
      "GMAP version 2021-12-17 called with args: gmap.avx2 -g GRCh38_with_exon_dup.fa -A genes_with_dup_original_prot_seq.fa\n",
      "Checking compiler assumptions for SSE2: 6B8B4567 327B23C6 xor=59F066A1\n",
      "Checking compiler assumptions for SSE4.1: -103 -58 max=198 => compiler zero extends\n",
      "Checking compiler options for SSE4.2: 6B8B4567 __builtin_clz=1 __builtin_ctz=0 _mm_popcnt_u32=17 __builtin_popcount=17 \n",
      "Finished checking compiler assumptions\n",
      "Starting alignment\n",
      "No paths found for ENSP00000493376.2\n",
      "No paths found for ENSP00000350358.4\n",
      "No paths found for ENSP00000365266.3\n",
      "No paths found for ENSP00000473584.1\n",
      "No paths found for ENSP00000289753.1\n",
      "No paths found for ENSP00000234961.2\n",
      "No paths found for ENSP00000361662.1\n",
      "No paths found for ENSP00000361095.4\n",
      "No paths found for ENSP00000242719.3\n",
      "No paths found for ENSP00000354677.4\n",
      "No paths found for ENSP00000429726.1\n",
      "No paths found for ENSP00000360315.3\n",
      "No paths found for ENSP00000271331.3\n",
      "No paths found for ENSP00000256592.1\n",
      "No paths found for ENSP00000357727.3\n",
      "No paths found for ENSP00000357067.3\n",
      "No paths found for ENSP00000426296.1\n",
      "No paths found for ENSP00000356792.3\n",
      "No paths found for ENSP00000343924.2\n",
      "No paths found for ENSP00000355672.3\n",
      "No paths found for ENSP00000355652.3\n",
      "No paths found for ENSP00000493366.1\n",
      "Processed 22 queries in 18.39 seconds (1.20 queries/sec)\n"
     ]
    }
   ],
   "source": [
    "!gmap -g GRCh38_with_exon_dup.fa -A genes_with_dup_original_prot_seq.fa > gmap.out.txt"
   ]
  },
  {
   "cell_type": "code",
   "execution_count": null,
   "id": "1a233ed2",
   "metadata": {},
   "outputs": [],
   "source": [
    "# !cat gmap.out.txt"
   ]
  },
  {
   "cell_type": "markdown",
   "id": "02c73d63",
   "metadata": {},
   "source": [
    "### spaln"
   ]
  },
  {
   "cell_type": "code",
   "execution_count": 4,
   "id": "2a4e676d",
   "metadata": {},
   "outputs": [],
   "source": [
    "!spaln -S 1 GRCh38_with_exon_dup.fa genes_with_dup_original_prot_seq.fa > spaln.out.txt"
   ]
  }
 ],
 "metadata": {
  "kernelspec": {
   "display_name": "Python 3 (ipykernel)",
   "language": "python",
   "name": "python3"
  },
  "language_info": {
   "codemirror_mode": {
    "name": "ipython",
    "version": 3
   },
   "file_extension": ".py",
   "mimetype": "text/x-python",
   "name": "python",
   "nbconvert_exporter": "python",
   "pygments_lexer": "ipython3",
   "version": "3.9.13"
  }
 },
 "nbformat": 4,
 "nbformat_minor": 5
}
