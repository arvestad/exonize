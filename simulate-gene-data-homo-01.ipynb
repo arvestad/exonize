{
 "cells": [
  {
   "cell_type": "markdown",
   "id": "f6f50159",
   "metadata": {},
   "source": [
    "### Simulate genes with exon duplications to compare tool outcomes"
   ]
  },
  {
   "cell_type": "code",
   "execution_count": 1,
   "id": "553a6db9",
   "metadata": {},
   "outputs": [],
   "source": [
    "%load_ext autoreload\n",
    "%autoreload 2\n",
    "from fun import *"
   ]
  },
  {
   "cell_type": "code",
   "execution_count": 2,
   "id": "4fb932c5",
   "metadata": {},
   "outputs": [],
   "source": [
    "# read db using the gffutils library\n",
    "db_filename = '/home/msarrias/dbs/homo_1.db'\n",
    "db = gffutils.FeatureDB(db_filename, keep_order=True)\n",
    "annot_dict = get_annotations_dict(db)"
   ]
  },
  {
   "cell_type": "code",
   "execution_count": 3,
   "id": "b3dc6cae",
   "metadata": {},
   "outputs": [],
   "source": [
    "# parent_dic, parent_child_dic = create_parent_child_dic(annot_dict)\n",
    "# dump_parent_child_dict(parent_dic, parent_child_dic,'../files/parent_child_dic_human_01.pkl')\n",
    "\n",
    "\n",
    "# genes parent - child annotations\n",
    "parent_dic_gene, parent_child_dic_gene_mRNA = create_parent_child_dic(annot_dict,parent_type = ['gene'],\n",
    "                                                       child_type = ['mRNA'])\n",
    "\n",
    "# mRNA parent - child annotations\n",
    "with open('../files/parent_child_dic_human_01.pkl', 'rb') as handle:\n",
    "    merged_dict = pickle.load(handle)"
   ]
  },
  {
   "cell_type": "code",
   "execution_count": 4,
   "id": "2464dbf0",
   "metadata": {},
   "outputs": [],
   "source": [
    "# get genes intron regions \n",
    "mRNA_parent_dic, parents_exon_coverage = get_exon_overlaps(merged_dict['parent_child_dic'], \n",
    "                                                           merged_dict['parent_dic'])\n",
    "# get gene - mRNA-exons relationship\n",
    "gene_hierarchy_dict = {}\n",
    "for ID, value in parent_child_dic_gene_mRNA.items():\n",
    "    dict_temp = {}\n",
    "    for transcript, attrib in value['mRNA'].items():\n",
    "        dict_temp[transcript] = parents_exon_coverage[transcript].copy()\n",
    "    gene_hierarchy_dict[ID] = dict_temp"
   ]
  },
  {
   "cell_type": "code",
   "execution_count": 5,
   "id": "69f2499e",
   "metadata": {},
   "outputs": [],
   "source": [
    "# parse chromosome seq\n",
    "fasta_GRCh38_seq = SeqIO.parse(open('/home/msarrias/data/Homo_sapiens.GRCh38.dna.chromosome.1.fa'),'fasta')\n",
    "fasta_GRCh38_seq = {fasta.id : str(fasta.seq) for fasta in fasta_GRCh38_seq}\n",
    "\n",
    "# get a sample of genes with 3 exons\n",
    "sample_genes_3exons = {}\n",
    "for gene_id, gene_attrib in gene_hierarchy_dict.items():\n",
    "    # to avoid choosing between transcripts\n",
    "    if len(gene_attrib) == 1:\n",
    "        for key, value in gene_attrib.items():\n",
    "            if len(value['exons']) == 3:\n",
    "                temp_gene_attrib = gene_attrib.copy()\n",
    "                for value in temp_gene_attrib.values():\n",
    "                    start, end = value['parent']['coord'] \n",
    "                    value['parent']['seq'] = fasta_GRCh38_seq['1'][start-1:end-1]\n",
    "                    for value_exon in value['exons'].values():\n",
    "                        start_e, end_e = value_exon['coord']\n",
    "                        value_exon['seq'] = fasta_GRCh38_seq['1'][start_e-1:end_e-1]\n",
    "                    for value_intron in value['introns'].values():\n",
    "                        start_e, end_e = value_intron['coord']\n",
    "                        value_intron['seq'] = fasta_GRCh38_seq['1'][start_e-1:end_e-1]\n",
    "                sample_genes_3exons[gene_id] = temp_gene_attrib"
   ]
  },
  {
   "cell_type": "code",
   "execution_count": 6,
   "id": "ec89eba7",
   "metadata": {},
   "outputs": [
    {
     "data": {
      "text/plain": [
       "53"
      ]
     },
     "execution_count": 6,
     "metadata": {},
     "output_type": "execute_result"
    }
   ],
   "source": [
    "len(list(sample_genes_3exons.keys()))"
   ]
  },
  {
   "cell_type": "code",
   "execution_count": 7,
   "id": "c1f7a685",
   "metadata": {},
   "outputs": [
    {
     "data": {
      "text/plain": [
       "dict_keys(['gene:ENSG00000186092', 'gene:ENSG00000197921', 'gene:ENSG00000120937', 'gene:ENSG00000116726', 'gene:ENSG00000279804', 'gene:ENSG00000204480', 'gene:ENSG00000204479', 'gene:ENSG00000204478', 'gene:ENSG00000158748', 'gene:ENSG00000117318', 'gene:ENSG00000116329', 'gene:ENSG00000243749', 'gene:ENSG00000044012', 'gene:ENSG00000197273', 'gene:ENSG00000159596', 'gene:ENSG00000123091', 'gene:ENSG00000116157', 'gene:ENSG00000182183', 'gene:ENSG00000162377', 'gene:ENSG00000143001', 'gene:ENSG00000154007', 'gene:ENSG00000143032', 'gene:ENSG00000143125', 'gene:ENSG00000134200', 'gene:ENSG00000143067', 'gene:ENSG00000163191', 'gene:ENSG00000182898', 'gene:ENSG00000159450', 'gene:ENSG00000215853', 'gene:ENSG00000197915', 'gene:ENSG00000143631', 'gene:ENSG00000143520', 'gene:ENSG00000143536', 'gene:ENSG00000163220', 'gene:ENSG00000163221', 'gene:ENSG00000197364', 'gene:ENSG00000186440', 'gene:ENSG00000162728', 'gene:ENSG00000248485', 'gene:ENSG00000143185', 'gene:ENSG00000143184', 'gene:ENSG00000120337', 'gene:ENSG00000122180', 'gene:ENSG00000188783', 'gene:ENSG00000170498', 'gene:ENSG00000123685', 'gene:ENSG00000185523', 'gene:ENSG00000181873', 'gene:ENSG00000116574', 'gene:ENSG00000239395', 'gene:ENSG00000196772', 'gene:ENSG00000177201', 'gene:ENSG00000198104'])"
      ]
     },
     "execution_count": 7,
     "metadata": {},
     "output_type": "execute_result"
    }
   ],
   "source": [
    "sample_genes_3exons.keys()"
   ]
  },
  {
   "cell_type": "code",
   "execution_count": 8,
   "id": "b4aab9c4",
   "metadata": {},
   "outputs": [
    {
     "data": {
      "text/plain": [
       "{'transcript:ENST00000376468': {'parent': {'source': 'ensembl_havana',\n",
       "   'len': 1481,\n",
       "   'coord': (11857464, 11858945),\n",
       "   'seq': 'TAAAGCTTATAATGTTGACTTTATTTCACCGTGGAAATTTTGTGCTCAAAGGTAAGAAACCATCTTATATAAAACAATCAAATAAATACATAAATACATTAAAAAAATGAGTCACTTCAAAGGCGGCCACAGGGTTGAGGAAAAAGCCCCTTGTGGAATCAGAAGCAGGTGTCTGCAGCCAGGACTTCCTCTTAATGCCGCCTCAGCACTGTCAGGGAAAGAGAGAGGGTGATGATGGTTAGGGTGGGAGATGGAGGCAGGGGCTGAGCTTACCTCATCGTGTGCCACCCACCACCCTGTTAGTCATCAGACGTTTGAGGCTTAATGCAACTCTCTGAGCCTCAGTTTCCTCATCTGTAAATTGGGGATTATCATTGCTCTGGTGATCCTGCTCTCTGCCTTTGAGACTATAGACAGTTTAGAGGAAACCAGGAGGAAATGTTTGGTTCTCTTTCTGCACCACTGGGGGGCTGCCAAATGATAAACAGACCCCCAAAGGAGATTCTGCCCCTTTGATAAGAAGTAGGAGGTGGGGAGAAGGTATTGTGGGCATGGTAATGAAATAAGCCCACATTTACTAATTCCACAAAGGCACCCCTTGGCCCTGAAGGCTGTTAACAAGAGGAAGCGATGTCCAGGTGACCTTTTCTCAAAGAGTGTGGTTCCCAGAGACAACAAACCCCAAAGTGACTCTAACAGTGTCACACACTGGAATGGGGGAAGGCGGCCGGGGTGGCAGGGGGTGCTTACCTTTGCAGCCCAGGCCACTGGAGGAGCTGATCCGGTCCATCTTCCTCCCAAAGCAGCCAGACCCTTGCACCATCTTGGGGCTTCGTGGTGCCCGCAGGGTGTAGAGGACCATTTTGCGGTGCCCACGGATGCCCTCGGTGGCTACCTCCCGGGACTTCCAGACACCTGTGGGACGGGGGCTCTCCTGGAGGGGCTCCAGGGATGTCTGCTCCACCTGCAGCTCCGACAGTTTGCCCTGCAAATGGTTGCGCTGCTCCTGCAATGAATGGGGGCGTCCAAGCCTCAGGGACCCACCCCTGGGCTCACCAGCCCTTCATGGCACCCAAGTGAACCGACTGCCTTGGGTACAGGGTCAGGGCACCCAGTCTCTCCATTTTCTGATTCCTTTATCACTAATTCCAAAGGAAAGATGAGGGCCTCTTGGGACAGCAGGTGAGGACCCTTTCATTGCTGCTGTCCAATCCCCCTGAGCTGCCCTCCGCTCTCACCTGTAACCCGGACGTTTCCAAGTCCGAGGCTGAACCGGGGCTGCCCAGCGGGTGGGAACGACCTCCCAGGAAAGCCAGATGCAAGAAGAGCAGGAGCAGGAGCGCCCGGGAAGGTGCTGTCTGGGGATCCATGTCTCTGGAGGGACTGCGGAGGCTGCTGCTGCTGCTTCTGCTGCTGCTGCTGCTGCTGCGATGCGTCCGGGTTTGCTTCCCACCTGCCCTCAGCCTGCGGGGTGCTCCTCC'},\n",
       "  'exons': {'ENSE00001826581': {'coord': (11857464, 11857671),\n",
       "    'seq': 'TAAAGCTTATAATGTTGACTTTATTTCACCGTGGAAATTTTGTGCTCAAAGGTAAGAAACCATCTTATATAAAACAATCAAATAAATACATAAATACATTAAAAAAATGAGTCACTTCAAAGGCGGCCACAGGGTTGAGGAAAAAGCCCCTTGTGGAATCAGAAGCAGGTGTCTGCAGCCAGGACTTCCTCTTAATGCCGCCTCAGC'},\n",
       "   'ENSE00000818947': {'coord': (11858214, 11858469),\n",
       "    'seq': 'CTTTGCAGCCCAGGCCACTGGAGGAGCTGATCCGGTCCATCTTCCTCCCAAAGCAGCCAGACCCTTGCACCATCTTGGGGCTTCGTGGTGCCCGCAGGGTGTAGAGGACCATTTTGCGGTGCCCACGGATGCCCTCGGTGGCTACCTCCCGGGACTTCCAGACACCTGTGGGACGGGGGCTCTCCTGGAGGGGCTCCAGGGATGTCTGCTCCACCTGCAGCTCCGACAGTTTGCCCTGCAAATGGTTGCGCTGCT'},\n",
       "   'ENSE00001871416': {'coord': (11858702, 11858945),\n",
       "    'seq': 'CTGTAACCCGGACGTTTCCAAGTCCGAGGCTGAACCGGGGCTGCCCAGCGGGTGGGAACGACCTCCCAGGAAAGCCAGATGCAAGAAGAGCAGGAGCAGGAGCGCCCGGGAAGGTGCTGTCTGGGGATCCATGTCTCTGGAGGGACTGCGGAGGCTGCTGCTGCTGCTTCTGCTGCTGCTGCTGCTGCTGCGATGCGTCCGGGTTTGCTTCCCACCTGCCCTCAGCCTGCGGGGTGCTCCTCC'}},\n",
       "  'introns': {0: {'coord': (11857671, 11858214),\n",
       "    'seq': 'ACTGTCAGGGAAAGAGAGAGGGTGATGATGGTTAGGGTGGGAGATGGAGGCAGGGGCTGAGCTTACCTCATCGTGTGCCACCCACCACCCTGTTAGTCATCAGACGTTTGAGGCTTAATGCAACTCTCTGAGCCTCAGTTTCCTCATCTGTAAATTGGGGATTATCATTGCTCTGGTGATCCTGCTCTCTGCCTTTGAGACTATAGACAGTTTAGAGGAAACCAGGAGGAAATGTTTGGTTCTCTTTCTGCACCACTGGGGGGCTGCCAAATGATAAACAGACCCCCAAAGGAGATTCTGCCCCTTTGATAAGAAGTAGGAGGTGGGGAGAAGGTATTGTGGGCATGGTAATGAAATAAGCCCACATTTACTAATTCCACAAAGGCACCCCTTGGCCCTGAAGGCTGTTAACAAGAGGAAGCGATGTCCAGGTGACCTTTTCTCAAAGAGTGTGGTTCCCAGAGACAACAAACCCCAAAGTGACTCTAACAGTGTCACACACTGGAATGGGGGAAGGCGGCCGGGGTGGCAGGGGGTGCTTAC'},\n",
       "   1: {'coord': (11858469, 11858702),\n",
       "    'seq': 'CCTGCAATGAATGGGGGCGTCCAAGCCTCAGGGACCCACCCCTGGGCTCACCAGCCCTTCATGGCACCCAAGTGAACCGACTGCCTTGGGTACAGGGTCAGGGCACCCAGTCTCTCCATTTTCTGATTCCTTTATCACTAATTCCAAAGGAAAGATGAGGGCCTCTTGGGACAGCAGGTGAGGACCCTTTCATTGCTGCTGTCCAATCCCCCTGAGCTGCCCTCCGCTCTCAC'}}}}"
      ]
     },
     "execution_count": 8,
     "metadata": {},
     "output_type": "execute_result"
    }
   ],
   "source": [
    "# example:\n",
    "sample_genes_3exons[ 'gene:ENSG00000120937']"
   ]
  },
  {
   "cell_type": "code",
   "execution_count": null,
   "id": "7f919f82",
   "metadata": {},
   "outputs": [],
   "source": [
    "# simulate genes with exon duplications"
   ]
  }
 ],
 "metadata": {
  "kernelspec": {
   "display_name": "Python 3 (ipykernel)",
   "language": "python",
   "name": "python3"
  },
  "language_info": {
   "codemirror_mode": {
    "name": "ipython",
    "version": 3
   },
   "file_extension": ".py",
   "mimetype": "text/x-python",
   "name": "python",
   "nbconvert_exporter": "python",
   "pygments_lexer": "ipython3",
   "version": "3.9.13"
  }
 },
 "nbformat": 4,
 "nbformat_minor": 5
}
