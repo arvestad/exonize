{
 "cells": [
  {
   "cell_type": "markdown",
   "id": "35d76597",
   "metadata": {},
   "source": [
    "### Simulate chromosome with exon duplications to compare tool outcomes"
   ]
  },
  {
   "cell_type": "code",
   "execution_count": 1,
   "id": "553a6db9",
   "metadata": {},
   "outputs": [],
   "source": [
    "%load_ext autoreload\n",
    "%autoreload 2\n",
    "from fun import *"
   ]
  },
  {
   "cell_type": "code",
   "execution_count": 2,
   "id": "4fb932c5",
   "metadata": {},
   "outputs": [],
   "source": [
    "# read db using the gffutils library\n",
    "db_filename = '/home/msarrias/dbs/homo_1.db'\n",
    "db = gffutils.FeatureDB(db_filename, keep_order=True)\n",
    "annot_dict = get_annotations_dict(db)"
   ]
  },
  {
   "cell_type": "code",
   "execution_count": 3,
   "id": "d131de9b",
   "metadata": {},
   "outputs": [],
   "source": [
    "# parent_dic, parent_child_dic = create_parent_child_dic(annot_dict)\n",
    "# dump_parent_child_dict(parent_dic, parent_child_dic,'../files/parent_child_dic_human_01.pkl')\n",
    "\n",
    "# genes parent - child annotations\n",
    "parent_dic_gene, parent_child_dic_gene_mRNA = create_parent_child_dic(annot_dict,parent_type = ['gene'],\n",
    "                                                       child_type = ['mRNA'])\n",
    "\n",
    "# mRNA parent - child annotations\n",
    "with open('../files/parent_child_dic_human_01.pkl', 'rb') as handle:\n",
    "    merged_dict = pickle.load(handle)"
   ]
  },
  {
   "cell_type": "code",
   "execution_count": 4,
   "id": "11825538",
   "metadata": {},
   "outputs": [],
   "source": [
    "# #get genes intron regions \n",
    "\n",
    "# mRNA_parent_dic, parents_exon_coverage = get_exon_overlaps(merged_dict['parent_child_dic'], \n",
    "#                                                            merged_dict['parent_dic'])\n",
    "\n",
    "# merged_dict = {'parent_dic':mRNA_parent_dic, 'parents_exon_coverage':parents_exon_coverage}\n",
    "# with open('../files/mRNA_parents_exon_coverage.pkl', 'wb') as handle:\n",
    "#     pickle.dump(merged_dict, handle)\n",
    "    \n",
    "with open('../files/mRNA_parents_exon_coverage.pkl', 'rb') as handle:\n",
    "    exon_merged_dict = pickle.load(handle)"
   ]
  },
  {
   "cell_type": "code",
   "execution_count": 5,
   "id": "76bdf707",
   "metadata": {},
   "outputs": [],
   "source": [
    "# get gene - mRNA-exons relationship\n",
    "gene_hierarchy_dict = {}\n",
    "for ID, value in parent_child_dic_gene_mRNA.items():\n",
    "    dict_temp = {}\n",
    "    for transcript, attrib in value['mRNA'].items():\n",
    "        dict_temp[transcript] = exon_merged_dict['parents_exon_coverage'][transcript].copy()\n",
    "    gene_hierarchy_dict[ID] = dict_temp"
   ]
  },
  {
   "cell_type": "code",
   "execution_count": 6,
   "id": "69f2499e",
   "metadata": {},
   "outputs": [],
   "source": [
    "# parse chromosome seq\n",
    "fasta_GRCh38_seq = SeqIO.parse(open('/home/msarrias/data/Homo_sapiens.GRCh38.dna.chromosome.1.fa'),'fasta')\n",
    "fasta_GRCh38_seq = { fasta.id : {'+' : str(fasta.seq),\n",
    "                                 '-': str(fasta.seq.reverse_complement())} for fasta in fasta_GRCh38_seq}"
   ]
  },
  {
   "cell_type": "code",
   "execution_count": 7,
   "id": "7333f5a0",
   "metadata": {},
   "outputs": [],
   "source": [
    "# get a sample of genes with 3 exons\n",
    "sample_genes_3exons = {}\n",
    "gene_hierarchy_dict_cp = copy.deepcopy(gene_hierarchy_dict)\n",
    "\n",
    "for gene_id, gene_attrib in gene_hierarchy_dict_cp.items():\n",
    "    # to avoid choosing between transcripts\n",
    "    if len(gene_attrib) == 1:\n",
    "        for transcript_key, transcript_dict in gene_attrib.items():\n",
    "            temp_transcript = exon_merged_dict['parent_dic'][transcript_key]\n",
    "            if temp_transcript['exon'][0] == 3 and transcript_dict['parent']['strand'] == '+':\n",
    "                temp_gene_attrib = copy.deepcopy(transcript_dict)\n",
    "                start, end = transcript_dict['parent']['coord']\n",
    "                strand = transcript_dict['parent']['strand']\n",
    "                temp_gene_attrib['parent']['seq'] = get_seq(strand,\n",
    "                                                            fasta_GRCh38_seq['1'],\n",
    "                                                            start, end) \n",
    "                \n",
    "                for idx, comp in enumerate(transcript_dict['structure']):\n",
    "                    for key, value in comp.items():\n",
    "                        start, end = value['coord']\n",
    "                        temp_gene_attrib['structure'][idx][key]['seq'] = get_seq(strand, \n",
    "                                                                                 fasta_GRCh38_seq['1'],\n",
    "                                                                                 start, end)\n",
    "                sample_genes_3exons[gene_id] = temp_gene_attrib"
   ]
  },
  {
   "cell_type": "code",
   "execution_count": 8,
   "id": "60cf0314",
   "metadata": {},
   "outputs": [],
   "source": [
    "exon_insertion_length = 0\n",
    "duplicate_exon_n = 2\n",
    "insert_intron = 'before'\n",
    "simulated_genes = {}\n",
    "exon_dup_len_acc = 0\n",
    "for gene_id, hierarchy_dict in sample_genes_3exons.items():\n",
    "    exon_count = 0\n",
    "    sim_gene_coord = []\n",
    "    sim_gene_comp = []\n",
    "    for idx, value in enumerate(hierarchy_dict['structure']):\n",
    "        id_ = list(value.keys())[0]\n",
    "        value = list(value.values())[0]\n",
    "        sim_gene_comp.append(id_)\n",
    "        sim_gene_coord.append(value['coord'])\n",
    "        if value['type'] == 'exon':\n",
    "            exon_count += 1\n",
    "        if exon_count == duplicate_exon_n:\n",
    "            if insert_intron == 'before':\n",
    "                comp = copy.deepcopy(hierarchy_dict['structure'][idx-1])\n",
    "            if insert_intron == 'after':\n",
    "                comp = copy.deepcopy(hierarchy_dict['structure'][idx+1])\n",
    "            comp_id = list(comp.keys())[0]\n",
    "            comp = list(comp.values())[0]\n",
    "            if comp['type'] == 'intron':\n",
    "                start, end = comp['coord']\n",
    "                center = (end - start) // 2\n",
    "                # we want to leave an evolutionary marker so we insert the \n",
    "                # exon duplication leaving 10 bp in the start and end of the intron.\n",
    "                if center > 10:\n",
    "                    exon_insertion_length += len(value['seq'])\n",
    "                    temp_list = copy.deepcopy(sim_gene_coord)\n",
    "                    temp_coords = [( start, start + center), value['coord'], ( start + center, end)]\n",
    "                    if start > temp_list[-1][0]:\n",
    "                        sim_gene_coord.extend(temp_coords)\n",
    "                    else:\n",
    "                        for coord_idx, coord in enumerate(temp_list):\n",
    "                            if start < coord[0]:\n",
    "                                sim_gene_coord = (sim_gene_coord[:(coord_idx -1)] \n",
    "                                                  + temp_coords \n",
    "                                                  + sim_gene_coord[coord_idx:])\n",
    "                                break\n",
    "                    exon_dup_len_acc += len(value['seq'])\n",
    "                    if insert_intron == 'before':\n",
    "                        sim_gene_coord.extend([list(value.values())[0]['coord'] for value in hierarchy_dict['structure'][idx+1:]])\n",
    "                        sim_gene_comp.extend([comp_id])\n",
    "                        sim_gene_comp.extend([list(value.keys())[0] for value in hierarchy_dict['structure'][idx:]])\n",
    "                    if insert_intron == 'after':\n",
    "                        sim_gene_coord.extend([list(value.values())[0]['coord'] for value in hierarchy_dict['structure'][idx+2:]])\n",
    "                        sim_gene_comp.extend([comp_id, id_, comp_id])\n",
    "                        sim_gene_comp.extend([list(value.keys())[0] for value in hierarchy_dict['structure'][idx+2:]])\n",
    "                else:\n",
    "                    print('the intron is too short to leave an evolutionary marker')\n",
    "            else:\n",
    "                print('two consecutive exons')\n",
    "            break \n",
    "    seq = copy.deepcopy(fasta_GRCh38_seq['1']['+'][(sim_gene_coord[0][0]-1):(sim_gene_coord[0][1]-1)])\n",
    "    for sim_coord in sim_gene_coord[1:]:\n",
    "        seq += copy.deepcopy(fasta_GRCh38_seq['1']['+'][(sim_coord[0] - 1):(sim_coord[1]-1)])\n",
    "    simulated_genes[gene_id] = [hierarchy_dict['parent']['coord'], sim_gene_comp, sim_gene_coord, seq]\n",
    "    "
   ]
  },
  {
   "cell_type": "code",
   "execution_count": 9,
   "id": "aaef63e5",
   "metadata": {},
   "outputs": [],
   "source": [
    "ch_seq_with_dipl = ''\n",
    "end = 0\n",
    "for idx, (sim_gene, sim_gene_list) in enumerate(simulated_genes.items()):\n",
    "    start, e = sim_gene_list[0]\n",
    "    temp = (copy.deepcopy(fasta_GRCh38_seq['1']['+'][end:start]) + sim_gene_list[-1])\n",
    "    if  idx < (len(simulated_genes)-1):\n",
    "        ch_seq_with_dipl += temp\n",
    "    else:\n",
    "        ch_seq_with_dipl += (temp + fasta_GRCh38_seq['1']['+'][e:])\n",
    "    _ , end = sim_gene_list[0]  "
   ]
  },
  {
   "cell_type": "code",
   "execution_count": 10,
   "id": "46d5d20c",
   "metadata": {},
   "outputs": [],
   "source": [
    "record = SeqRecord(\n",
    "    Seq(ch_seq_with_dipl),\n",
    "    id = 'GRCh38_with_exon_dup',\n",
    "    description=\"first chromosome in which 22 genes on the \"\n",
    "                \"positive strand have duplications of the 2nd exon\"\n",
    "                \"inserted in the 1st intron\",\n",
    ")\n",
    "with open(\"GRCh38_with_exon_dup.fa\", \"w\") as handle:\n",
    "    SeqIO.write(record, handle, \"fasta\")"
   ]
  },
  {
   "cell_type": "markdown",
   "id": "18e9c740",
   "metadata": {},
   "source": [
    "## Collect the protein sequences of the genes with duplications"
   ]
  },
  {
   "cell_type": "code",
   "execution_count": 11,
   "id": "bbd0e557",
   "metadata": {},
   "outputs": [],
   "source": [
    "## Retrieve a fasta file with the protein sequences of all genes in human.\n",
    "#!wget http://ftp.ensembl.org/pub/release-107/fasta/homo_sapiens/pep/Homo_sapiens.GRCh38.pep.all.fa.gz\n",
    "#!gunzip *.gz"
   ]
  },
  {
   "cell_type": "code",
   "execution_count": 12,
   "id": "e922d5f8",
   "metadata": {},
   "outputs": [],
   "source": [
    "human_protein_seqs = {}\n",
    "fasta_sequences = SeqIO.parse(open(\"Homo_sapiens.GRCh38.pep.all.fa\"),'fasta')\n",
    "for fasta in fasta_sequences:\n",
    "    gene = [i for i in fasta.description.rsplit(' ') if 'gene:' in i]\n",
    "    if gene:\n",
    "        if gene[0] not in human_protein_seqs:\n",
    "            human_protein_seqs[gene[0]] = {}\n",
    "        human_protein_seqs[gene[0]][fasta.id] = str(fasta.seq)"
   ]
  },
  {
   "cell_type": "code",
   "execution_count": 14,
   "id": "07ad6940",
   "metadata": {},
   "outputs": [],
   "source": [
    "proteins_simulated_genes = {}\n",
    "with open(\"genes_with_dup_original_prot_seq.fa\", \"w\") as handle:\n",
    "    for gene_id in simulated_genes.keys():\n",
    "        gene_id_prot_dict = [i for i in list(human_protein_seqs.keys()) if gene_id in i]\n",
    "        if gene_id_prot_dict:\n",
    "            temp = copy.deepcopy(human_protein_seqs[gene_id_prot_dict[0]])\n",
    "            for prot_id, seq in temp.items():  \n",
    "                record = SeqRecord(Seq(seq),\n",
    "                                   id = str(prot_id),\n",
    "                                  description= gene_id_prot_dict[0])\n",
    "                SeqIO.write(record, handle, \"fasta\")\n",
    "            proteins_simulated_genes[gene_id_prot_dict[0]] = temp"
   ]
  }
 ],
 "metadata": {
  "kernelspec": {
   "display_name": "Python 3 (ipykernel)",
   "language": "python",
   "name": "python3"
  },
  "language_info": {
   "codemirror_mode": {
    "name": "ipython",
    "version": 3
   },
   "file_extension": ".py",
   "mimetype": "text/x-python",
   "name": "python",
   "nbconvert_exporter": "python",
   "pygments_lexer": "ipython3",
   "version": "3.9.13"
  }
 },
 "nbformat": 4,
 "nbformat_minor": 5
}
