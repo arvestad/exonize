{
 "cells": [
  {
   "cell_type": "code",
   "execution_count": 1,
   "id": "553a6db9",
   "metadata": {},
   "outputs": [],
   "source": [
    "%load_ext autoreload\n",
    "%autoreload 2\n",
    "from fun import *"
   ]
  },
  {
   "cell_type": "code",
   "execution_count": 2,
   "id": "4fb932c5",
   "metadata": {},
   "outputs": [],
   "source": [
    "# read db using the gffutils library\n",
    "db_filename = '/home/msarrias/dbs/homo_1.db'\n",
    "db = gffutils.FeatureDB(db_filename, keep_order=True)\n",
    "annot_dict = get_annotations_dict(db)"
   ]
  },
  {
   "cell_type": "code",
   "execution_count": null,
   "id": "263bce75",
   "metadata": {},
   "outputs": [],
   "source": [
    "# parent_dic, parent_child_dic = create_parent_child_dic(annot_dict)\n",
    "# dump_parent_child_dict(parent_dic, parent_child_dic,'../files/parent_child_dic_human_01.pkl')\n",
    "\n",
    "\n",
    "# genes parent - child annotations\n",
    "parent_dic_gene, parent_child_dic_gene_mRNA = create_parent_child_dic(annot_dict,parent_type = ['gene'],\n",
    "                                                       child_type = ['mRNA'])\n",
    "\n",
    "# mRNA parent - child annotations\n",
    "with open('../files/parent_child_dic_human_01.pkl', 'rb') as handle:\n",
    "    merged_dict = pickle.load(handle)\n",
    "    \n",
    "mRNA_parent_dic, parents_exon_coverage = get_exon_overlaps(merged_dict['parent_child_dic'], \n",
    "                                                           merged_dict['parent_dic'])\n",
    "# get gene - exons relationship\n",
    "gene_hierarchy_dict = {}\n",
    "for ID, value in parent_child_dic_gene_mRNA.items():\n",
    "    dict_temp = {}\n",
    "    for transcript, attrib in value['mRNA'].items():\n",
    "        dict_temp[transcript] = parents_exon_coverage[transcript].copy()\n",
    "    gene_hierarchy_dict[ID] = dict_temp\n",
    "\n",
    "\n",
    "fasta_sequences = SeqIO.parse(open('/home/msarrias/data/Homo_sapiens.GRCh38.dna.chromosome.1.fa'),'fasta')\n",
    "fasta_sequences = {fasta.id:str(fasta.seq) for fasta in fasta_sequences}\n",
    "\n",
    "# get a sample of genes with 3 exons\n",
    "sample_genes_3exons = {}\n",
    "for gene_id, gene_attrib in gene_hierarchy_dict.items():\n",
    "    # to avoid choosing between sources\n",
    "    if len(gene_attrib) == 1:\n",
    "        for key, value in gene_attrib.items():\n",
    "            if len(value['exons']) == 3:\n",
    "                temp_gene_attrib = gene_attrib.copy()\n",
    "                for value in temp_gene_attrib.values():\n",
    "                    start, end = value['parent']['coord'] \n",
    "                    value['parent']['seq'] = fasta_sequences['1'][start-1:end-1]\n",
    "                    for value_exon in value['exons'].values():\n",
    "                        start_e, end_e = value_exon['coord']\n",
    "                        value_exon['seq'] = fasta_sequences['1'][start_e-1:end_e-1]\n",
    "                sample_genes_3exons[gene_id] = temp_gene_attrib"
   ]
  },
  {
   "cell_type": "code",
   "execution_count": null,
   "id": "7a5d00eb",
   "metadata": {},
   "outputs": [],
   "source": [
    "# example:\n",
    "\n",
    "sample_genes_3exons.keys()"
   ]
  },
  {
   "cell_type": "code",
   "execution_count": null,
   "id": "de6839c4",
   "metadata": {},
   "outputs": [],
   "source": [
    "sample_genes_3exons['gene:ENSG00000197921']"
   ]
  }
 ],
 "metadata": {
  "kernelspec": {
   "display_name": "Python 3 (ipykernel)",
   "language": "python",
   "name": "python3"
  },
  "language_info": {
   "codemirror_mode": {
    "name": "ipython",
    "version": 3
   },
   "file_extension": ".py",
   "mimetype": "text/x-python",
   "name": "python",
   "nbconvert_exporter": "python",
   "pygments_lexer": "ipython3",
   "version": "3.9.13"
  }
 },
 "nbformat": 4,
 "nbformat_minor": 5
}
